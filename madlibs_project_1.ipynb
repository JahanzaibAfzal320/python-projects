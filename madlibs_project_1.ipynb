{
  "nbformat": 4,
  "nbformat_minor": 0,
  "metadata": {
    "colab": {
      "provenance": [],
      "authorship_tag": "ABX9TyP96Vj+eaMLEQ58ncA1APrn",
      "include_colab_link": true
    },
    "kernelspec": {
      "name": "python3",
      "display_name": "Python 3"
    },
    "language_info": {
      "name": "python"
    }
  },
  "cells": [
    {
      "cell_type": "markdown",
      "metadata": {
        "id": "view-in-github",
        "colab_type": "text"
      },
      "source": [
        "<a href=\"https://colab.research.google.com/github/JahanzaibAfzal320/python-projects/blob/main/madlibs_project_1.ipynb\" target=\"_parent\"><img src=\"https://colab.research.google.com/assets/colab-badge.svg\" alt=\"Open In Colab\"/></a>"
      ]
    },
    {
      "cell_type": "code",
      "execution_count": 2,
      "metadata": {
        "colab": {
          "base_uri": "https://localhost:8080/"
        },
        "id": "7LMeYOQp0uQg",
        "outputId": "a37fcd15-72d9-4d11-8b79-03d627bae935"
      },
      "outputs": [
        {
          "output_type": "stream",
          "name": "stdout",
          "text": [
            "Enter a noun: jahanzaib\n",
            "Enter a verb: running\n",
            "Enter a adjective: young\n",
            "Enter a place: karachi\n",
            "/n here is your mad libs story: \n",
            "One day a young jahanzaib decided to running at karachi. It was an unforgettable adventure!\n"
          ]
        }
      ],
      "source": [
        "\n",
        "def madlibs():\n",
        "    noun = input(\"Enter a noun: \")\n",
        "    verb = input(\"Enter a verb: \")\n",
        "    adjective = input(\"Enter a adjective: \")\n",
        "    place = input(\"Enter a place: \")\n",
        "\n",
        "    story = f\"One day a {adjective} {noun} decided to {verb} at {place}. It was an unforgettable adventure!\"\n",
        "\n",
        "    print(\"/n here is your mad libs story: \")\n",
        "    print(story)\n",
        "\n",
        "madlibs()\n",
        "\n"
      ]
    }
  ]
}