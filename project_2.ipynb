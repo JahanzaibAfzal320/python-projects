{
  "nbformat": 4,
  "nbformat_minor": 0,
  "metadata": {
    "colab": {
      "provenance": [],
      "authorship_tag": "ABX9TyNOJD98DZlKwWQYbTM4ykqO",
      "include_colab_link": true
    },
    "kernelspec": {
      "name": "python3",
      "display_name": "Python 3"
    },
    "language_info": {
      "name": "python"
    }
  },
  "cells": [
    {
      "cell_type": "markdown",
      "metadata": {
        "id": "view-in-github",
        "colab_type": "text"
      },
      "source": [
        "<a href=\"https://colab.research.google.com/github/JahanzaibAfzal320/python-projects/blob/main/project_2.ipynb\" target=\"_parent\"><img src=\"https://colab.research.google.com/assets/colab-badge.svg\" alt=\"Open In Colab\"/></a>"
      ]
    },
    {
      "cell_type": "code",
      "execution_count": null,
      "metadata": {
        "colab": {
          "base_uri": "https://localhost:8080/"
        },
        "id": "NKucMXVidUNP",
        "outputId": "3783648f-b8dc-4891-b0e5-7551072cd68b"
      },
      "outputs": [
        {
          "output_type": "stream",
          "name": "stdout",
          "text": [
            "Guess a number between 1 and 100: 2\n",
            "Too low!\n",
            "Guess a number between 1 and 100: 3\n",
            "Too low!\n",
            "Guess a number between 1 and 100: 5\n",
            "Too low!\n",
            "Guess a number between 1 and 100: 6\n",
            "Too low!\n"
          ]
        }
      ],
      "source": [
        "import random\n",
        "def guess_number():\n",
        "\n",
        "  number = random.randint(1, 100)\n",
        "  guess = 0\n",
        "  while guess != number:\n",
        "    guess = int(input(\"Guess a number between 1 and 100: \"))\n",
        "    if guess < number:\n",
        "      print(\"Too low!\")\n",
        "    elif guess > number:\n",
        "      print(\"Too high!\")\n",
        "    else:\n",
        "      print(f\"Congratulations! You guessed the {number} number!\")\n",
        "guess_number()\n",
        "\n",
        "\n"
      ]
    }
  ]
}