{
  "cells": [
    {
      "cell_type": "markdown",
      "metadata": {
        "id": "view-in-github",
        "colab_type": "text"
      },
      "source": [
        "<a href=\"https://colab.research.google.com/github/JahanzaibAfzal320/python-projects/blob/main/guess_the_number_(user)_.ipynb\" target=\"_parent\"><img src=\"https://colab.research.google.com/assets/colab-badge.svg\" alt=\"Open In Colab\"/></a>"
      ]
    },
    {
      "cell_type": "code",
      "source": [
        "import random\n",
        "\n",
        "def computer_guess(x):\n",
        "  low = 1\n",
        "  high = x\n",
        "  feedback = ''\n",
        "\n",
        "  while feedback != 'c':\n",
        "    if low <= high:\n",
        "        guess = random.randint(low, high)\n",
        "    else:\n",
        "       break\n",
        "    feedback = input(f\"if guessed {guess} is to high (H), too low (L), or correct (c)??\").lower()\n",
        "    if feedback == 'h':\n",
        "      high = guess - 1\n",
        "    elif feedback == 'l':\n",
        "      low = guess + 1\n",
        "    else:\n",
        "      print(f\"the computer guessed your number{guess} corectly\")\n",
        "\n",
        "computer_guess(100)\n",
        "\n"
      ],
      "metadata": {
        "colab": {
          "base_uri": "https://localhost:8080/"
        },
        "id": "ySP5vyBEQIJU",
        "outputId": "fb923ca0-fe67-422d-b610-7cde97fee98e"
      },
      "execution_count": null,
      "outputs": [
        {
          "output_type": "stream",
          "name": "stdout",
          "text": [
            "if guessed 26 is to high (H), too low (L), or correct (c)??h\n",
            "if guessed 8 is to high (H), too low (L), or correct (c)??l\n",
            "if guessed 14 is to high (H), too low (L), or correct (c)??l\n",
            "if guessed 20 is to high (H), too low (L), or correct (c)??h\n",
            "if guessed 16 is to high (H), too low (L), or correct (c)??l\n",
            "if guessed 17 is to high (H), too low (L), or correct (c)??l\n",
            "if guessed 19 is to high (H), too low (L), or correct (c)??h\n",
            "if guessed 18 is to high (H), too low (L), or correct (c)??c\n",
            "the computer guessed your number18 corectly\n"
          ]
        }
      ]
    },
    {
      "cell_type": "code",
      "source": [],
      "metadata": {
        "id": "ZzxWZFurQIWQ"
      },
      "execution_count": null,
      "outputs": []
    }
  ],
  "metadata": {
    "colab": {
      "provenance": [],
      "authorship_tag": "ABX9TyMWBI4FiPONzODzz+5ZITrw",
      "include_colab_link": true
    },
    "kernelspec": {
      "display_name": "Python 3",
      "name": "python3"
    },
    "language_info": {
      "name": "python"
    }
  },
  "nbformat": 4,
  "nbformat_minor": 0
}